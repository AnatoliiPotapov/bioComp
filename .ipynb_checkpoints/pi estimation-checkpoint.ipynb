{
 "cells": [
  {
   "cell_type": "markdown",
   "metadata": {},
   "source": [
    "# Задача3 Вычисление pi методом Монте-Карло"
   ]
  },
  {
   "cell_type": "code",
   "execution_count": 32,
   "metadata": {},
   "outputs": [
    {
     "name": "stdout",
     "output_type": "stream",
     "text": [
      "[1, 10, 100, 1000, 10000, 100000, 1000000, 10000000]\n"
     ]
    }
   ],
   "source": [
    "import numpy as np\n",
    "import random as r\n",
    "import math as m\n",
    "import matplotlib.pyplot as plt\n",
    "\n",
    "iterations = [np.power(10,i) for i in range(8)]\n",
    "print iterations\n",
    "\n",
    "estimations = []"
   ]
  },
  {
   "cell_type": "markdown",
   "metadata": {},
   "source": [
    "## Метод 1, попадание точки из равномерного распределения (0:1,0:1) в круг радиусом 1.0 (в первый квадрант)"
   ]
  },
  {
   "cell_type": "code",
   "execution_count": 33,
   "metadata": {},
   "outputs": [
    {
     "name": "stdout",
     "output_type": "stream",
     "text": [
      "После 1 итераций оценка числа pi: 4.0\n",
      "После 10 итераций оценка числа pi: 2.4\n",
      "После 100 итераций оценка числа pi: 2.92\n",
      "После 1000 итераций оценка числа pi: 3.116\n",
      "После 10000 итераций оценка числа pi: 3.132\n",
      "После 100000 итераций оценка числа pi: 3.13872\n",
      "После 1000000 итераций оценка числа pi: 3.142292\n",
      "После 10000000 итераций оценка числа pi: 3.1426272\n"
     ]
    }
   ],
   "source": [
    "# Iterate for the number of darts.\n",
    "iteration = 0\n",
    "inside = 0\n",
    "\n",
    "for i in range(8):\n",
    "    while True:\n",
    "        iteration += 1\n",
    "        # Generate random x, y in [0, 1].\n",
    "        x2 = np.random.rand()**2\n",
    "        y2 = np.random.rand()**2\n",
    "        # Increment if inside unit circle.\n",
    "        if m.sqrt(x2 + y2) < 1.0:\n",
    "            inside += 1\n",
    "        if iteration == iterations[i]:\n",
    "            \n",
    "            pi = (float(inside) / iteration) * 4\n",
    "            estimations.append(pi)\n",
    "            print 'После {0} итераций оценка числа pi: {1}'.format(iteration, pi)\n",
    "            break"
   ]
  },
  {
   "cell_type": "code",
   "execution_count": 35,
   "metadata": {},
   "outputs": [
    {
     "data": {
      "image/png": "[encoded data removed]",
      "text/plain": [
       "<matplotlib.figure.Figure at 0x7fa3cddc0110>"
      ]
     },
     "metadata": {},
     "output_type": "display_data"
    }
   ],
   "source": [
    "x = np.linspace(0,np.power(10,10),10)\n",
    "import matplotlib.pyplot as plt\n",
    "plt.xscale(\"log\", nonposx='clip')\n",
    "plt.xlabel('number of trials')\n",
    "plt.ylabel('value')\n",
    "plt.title(u'Оценка pi для разного числа попыток')\n",
    "plt.plot(x, x*0.0+m.pi, ':b', label='pi value')\n",
    "plt.plot(iterations, estimations, label='pi value')\n",
    "plt.show()"
   ]
  },
  {
   "cell_type": "markdown",
   "metadata": {},
   "source": [
    "## Метод 2 задача Бюффона о бросании иглы"
   ]
  },
  {
   "cell_type": "code",
   "execution_count": null,
   "metadata": {
    "collapsed": true
   },
   "outputs": [],
   "source": [
    "import matplotlib.pyplot as plt\n",
    "plt.plot([1,2,3,4])\n",
    "plt.ylabel('some numbers')\n",
    "plt.show()"
   ]
  },
  {
   "cell_type": "code",
   "execution_count": 53,
   "metadata": {},
   "outputs": [
    {
     "name": "stdout",
     "output_type": "stream",
     "text": [
      "попытка    перекрытий               pi\n",
      "0            1933               3.10398344542\n",
      "1            1918               3.12825860271\n",
      "2            1830               3.27868852459\n",
      "3            1903               3.15291644771\n",
      "4            1900               3.15789473684\n",
      "5            1869               3.21027287319\n",
      "6            1916               3.13152400835\n",
      "7            1909               3.14300680985\n",
      "8            1963               3.0565461029\n",
      "9            1881               3.18979266348\n"
     ]
    }
   ],
   "source": [
    "'''\n",
    "Параметры эксперимента:\n",
    "n = число бросков\n",
    "r = число запусков\n",
    "a = длина иглы\n",
    "b = расстояние между линиями\n",
    "theta = угол, под которым падает игла\n",
    "rcenter = координата середины иглы при падении\n",
    "\n",
    "0  < theta < pi/2\n",
    "0 < xcenter < b/2\n",
    "     \n",
    "'''\n",
    "\n",
    "def buffon(n,r,a,b):\n",
    "    data=[] \n",
    "    print 'попытка'+'    '+'перекрытий'+'               '+'pi'\n",
    "    for jj in range(r):\n",
    "        nhits = 0\n",
    "        for ii in range(n):\n",
    "            xcent = np.random.uniform(0,b/2.0)\n",
    "            theta = np.random.uniform(0,m.pi/2)\n",
    "            xtip  = xcent - (a/2.0)*m.cos(theta)  \n",
    "            if xtip < 0 :\n",
    "                nhits += 1\n",
    "        \n",
    "        c = 2.0*a*n\n",
    "        d = b*nhits\n",
    "        print str(jj)+'            '+str(nhits)+'               '+str(c/d)\n",
    "        data.append([jj,nhits])\n",
    "    return data\n",
    "        \n",
    "\n",
    "r=10\n",
    "n=4000\n",
    "a = 3  #needle 3 inches\n",
    "b = 4  #cracks 4 inch spacing\n",
    "\n",
    "hits= buffon(n,r,a,b)"
   ]
  },
  {
   "cell_type": "code",
   "execution_count": 49,
   "metadata": {
    "collapsed": true
   },
   "outputs": [],
   "source": [
    "iterations = [np.power(10,i) for i in range(1,8)]\n",
    "estimations = []"
   ]
  },
  {
   "cell_type": "code",
   "execution_count": 45,
   "metadata": {},
   "outputs": [
    {
     "name": "stdout",
     "output_type": "stream",
     "text": [
      "попытка    перекрытий               pi\n",
      "0            6               2.5\n",
      "попытка    перекрытий               pi\n",
      "0            52               2.88461538462\n",
      "попытка    перекрытий               pi\n",
      "0            466               3.21888412017\n",
      "попытка    перекрытий               pi\n",
      "0            4702               3.19013185878\n",
      "попытка    перекрытий               pi\n",
      "0            47871               3.13342106912\n",
      "попытка    перекрытий               pi\n",
      "0            478018               3.13795714806\n",
      "попытка    перекрытий               pi\n",
      "0            4775086               3.14130468017\n",
      "попытка    перекрытий               pi\n",
      "0            47742693               3.14184204062\n"
     ]
    }
   ],
   "source": [
    "for i in range(8):\n",
    "    estimations.append(buffon(iterations[i], 1, 3, 4)[0][1] / iterations[i])"
   ]
  },
  {
   "cell_type": "code",
   "execution_count": 51,
   "metadata": {},
   "outputs": [
    {
     "data": {
      "image/png": "[encoded data removed]",
      "text/plain": [
       "<matplotlib.figure.Figure at 0x7fa3cdb59a10>"
      ]
     },
     "metadata": {},
     "output_type": "display_data"
    }
   ],
   "source": [
    "x = np.linspace(0,np.power(10,10),10)\n",
    "import matplotlib.pyplot as plt\n",
    "plt.xscale(\"log\", nonposx='clip')\n",
    "plt.xlabel('number of trials')\n",
    "plt.ylabel('value')\n",
    "plt.title(u'Оценка pi для разного числа попыток')\n",
    "plt.plot(x, x*0.0+m.pi, ':b', label='pi value')\n",
    "plt.plot(iterations, estimations, label='pi value')\n",
    "plt.show()"
   ]
  },
  {
   "cell_type": "code",
   "execution_count": null,
   "metadata": {
    "collapsed": true
   },
   "outputs": [],
   "source": []
  }
 ],
 "metadata": {
  "anaconda-cloud": {},
  "kernelspec": {
   "display_name": "Python [default]",
   "language": "python",
   "name": "python2"
  },
  "language_info": {
   "codemirror_mode": {
    "name": "ipython",
    "version": 2
   },
   "file_extension": ".py",
   "mimetype": "text/x-python",
   "name": "python",
   "nbconvert_exporter": "python",
   "pygments_lexer": "ipython2",
   "version": "2.7.13"
  }
 },
 "nbformat": 4,
 "nbformat_minor": 2
}
